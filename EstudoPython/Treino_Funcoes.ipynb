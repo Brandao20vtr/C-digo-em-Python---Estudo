{
 "cells": [
  {
   "cell_type": "markdown",
   "id": "97a3c579",
   "metadata": {},
   "source": [
    "# Funções em Python"
   ]
  },
  {
   "cell_type": "code",
   "execution_count": 1,
   "id": "8479927b",
   "metadata": {},
   "outputs": [],
   "source": [
    "# CRIANDO UMA FUNÇÃO\n",
    "# def --> Chama a função\n",
    "# primeiraFuncao --> É o nome que foi atribuído para a função\n",
    "# () --> Está vazio porque não foi atribuído parâmetro\n",
    "def primeiraFuncao():\n",
    "    print('Hello World!')"
   ]
  },
  {
   "cell_type": "code",
   "execution_count": 2,
   "id": "b9790256",
   "metadata": {},
   "outputs": [
    {
     "name": "stdout",
     "output_type": "stream",
     "text": [
      "Hello World!\n"
     ]
    }
   ],
   "source": [
    "primeiraFuncao()"
   ]
  },
  {
   "cell_type": "code",
   "execution_count": 3,
   "id": "a136d7b0",
   "metadata": {},
   "outputs": [],
   "source": [
    "# DEFININDO UM PARÂMETRO\n",
    "# (nome) --> Atribuído um parâmetro 'nome' que receberá um valor\n",
    "def primeiraFuncao(nome):\n",
    "    print('Hello %s'%(nome))   # Quando for atribuído valor para o parâmetro, ele será colocado na frase"
   ]
  },
  {
   "cell_type": "code",
   "execution_count": 4,
   "id": "d051cf66",
   "metadata": {},
   "outputs": [
    {
     "name": "stdout",
     "output_type": "stream",
     "text": [
      "Hello Vitor\n"
     ]
    }
   ],
   "source": [
    "# Depois da função criada é atribuído um valor ao parâmetro\n",
    "primeiraFuncao('Vitor')   # O valor do parâmetro é 'Vitor'"
   ]
  },
  {
   "cell_type": "code",
   "execution_count": 5,
   "id": "f0afe2c0",
   "metadata": {},
   "outputs": [],
   "source": [
    "# FUNÇÃO COM FOR\n",
    "def funcLeitura():\n",
    "    for i in range(0, 5):   # Fará uma contagem de 0 á 4 exclusive o 5, conta 5 valores: 0, 1, 2, 3, 4\n",
    "        print('Número ' + str(i))   # A variável 'i' que passará por cada valor será colocada aqui"
   ]
  },
  {
   "cell_type": "code",
   "execution_count": 6,
   "id": "6b732757",
   "metadata": {},
   "outputs": [
    {
     "name": "stdout",
     "output_type": "stream",
     "text": [
      "Número 0\n",
      "Número 1\n",
      "Número 2\n",
      "Número 3\n",
      "Número 4\n"
     ]
    }
   ],
   "source": [
    "funcLeitura()"
   ]
  },
  {
   "cell_type": "markdown",
   "id": "57cf4a8d",
   "metadata": {},
   "source": [
    "# Criando uma função usando outra função"
   ]
  },
  {
   "cell_type": "code",
   "execution_count": 7,
   "id": "470e528c",
   "metadata": {},
   "outputs": [],
   "source": [
    "# Importando pacote 'Matemática'\n",
    "import math\n",
    "\n",
    "def numPrimo(num):\n",
    "    if (num % 2) == 0 and num > 2:\n",
    "        return 'Esse número não é primo.'\n",
    "    \n",
    "    for i in range(3, int(math.sqrt(num)) + 1,  2):\n",
    "        if (num % i) == 0:\n",
    "            return 'Esse número não é primo.'\n",
    "        \n",
    "    return 'Esse número é primo.'"
   ]
  },
  {
   "cell_type": "code",
   "execution_count": 8,
   "id": "50dd1c91",
   "metadata": {},
   "outputs": [
    {
     "data": {
      "text/plain": [
       "'Esse número é primo.'"
      ]
     },
     "execution_count": 8,
     "metadata": {},
     "output_type": "execute_result"
    }
   ],
   "source": [
    "numPrimo(541)"
   ]
  },
  {
   "cell_type": "markdown",
   "id": "023f4a4c",
   "metadata": {},
   "source": [
    "# Fazendo 'split' dos dados"
   ]
  },
  {
   "cell_type": "code",
   "execution_count": 9,
   "id": "685fcc23",
   "metadata": {},
   "outputs": [],
   "source": [
    "def splitString(text):\n",
    "    return text.split(' ')"
   ]
  },
  {
   "cell_type": "code",
   "execution_count": 10,
   "id": "1a851cc9",
   "metadata": {},
   "outputs": [],
   "source": [
    "text = 'Now I am learning functions in Python'"
   ]
  },
  {
   "cell_type": "code",
   "execution_count": 11,
   "id": "9f8391d7",
   "metadata": {},
   "outputs": [
    {
     "name": "stdout",
     "output_type": "stream",
     "text": [
      "['Now', 'I', 'am', 'learning', 'functions', 'in', 'Python']\n"
     ]
    }
   ],
   "source": [
    "print(splitString(text))"
   ]
  },
  {
   "cell_type": "code",
   "execution_count": 12,
   "id": "b8ec1f95",
   "metadata": {},
   "outputs": [],
   "source": [
    "def splitString(text):\n",
    "    return text.upper()"
   ]
  },
  {
   "cell_type": "code",
   "execution_count": 13,
   "id": "84f9baa5",
   "metadata": {},
   "outputs": [
    {
     "data": {
      "text/plain": [
       "'NOW I AM LEARNING FUNCTIONS IN PYTHON'"
      ]
     },
     "execution_count": 13,
     "metadata": {},
     "output_type": "execute_result"
    }
   ],
   "source": [
    "splitString(text)"
   ]
  },
  {
   "cell_type": "code",
   "execution_count": 14,
   "id": "efe927a6",
   "metadata": {},
   "outputs": [],
   "source": [
    "def splitString(text):\n",
    "    return text.lower()"
   ]
  },
  {
   "cell_type": "code",
   "execution_count": 15,
   "id": "60240159",
   "metadata": {},
   "outputs": [],
   "source": [
    "texto = splitString(text)"
   ]
  },
  {
   "cell_type": "code",
   "execution_count": 16,
   "id": "bf9979c9",
   "metadata": {},
   "outputs": [
    {
     "name": "stdout",
     "output_type": "stream",
     "text": [
      "now i am learning functions in python\n"
     ]
    }
   ],
   "source": [
    "print(texto)"
   ]
  },
  {
   "cell_type": "markdown",
   "id": "2b744bf7",
   "metadata": {},
   "source": [
    "# Fazendo conta com função"
   ]
  },
  {
   "cell_type": "code",
   "execution_count": 17,
   "id": "abf1fffb",
   "metadata": {},
   "outputs": [],
   "source": [
    "def pagamento(qtdHoras, valorHora):\n",
    "    horas = qtdHoras   # Variável hora receberá a quantidade de horas trabalhadas\n",
    "    taxa = valorHora   # Variável receberá valor trabalhado por hora\n",
    "   \n",
    "    if horas <= 40:   # Se horas for menor e igual a 40\n",
    "        salario = horas * taxa   # Salário será horas multiplicado pela taxa\n",
    "   \n",
    "    else:   # Se não\n",
    "        horaExcd = horas - 40   # Horas excedidas será igual a hora menos 40\n",
    "        salario = 40 * taxa + (horaExcd * (1.5 * taxa))   # E salário será igual 40 * taxa + (horaExcd * (1.5 * taxa))\n",
    "       \n",
    "    return salario   # Retorne o salário\n"
   ]
  },
  {
   "cell_type": "code",
   "execution_count": 18,
   "id": "ed208442",
   "metadata": {},
   "outputs": [
    {
     "name": "stdout",
     "output_type": "stream",
     "text": [
      "Digite quantidade de horas trabalhadas: 45\n",
      "Digite o valor da hora trabalhada: R$ 159\n",
      "O valor do seu salário é R$ 7552.50\n"
     ]
    }
   ],
   "source": [
    "# Criando input para receber os valores\n",
    "strHora = float(input('Digite quantidade de horas trabalhadas: '))\n",
    "strTaxa = float(input('Digite o valor da hora trabalhada: R$ '))\n",
    "\n",
    "totalSalario = pagamento(strHora, strTaxa)\n",
    "\n",
    "print('O valor do seu salário é R$ %.2f'%totalSalario)"
   ]
  },
  {
   "cell_type": "markdown",
   "id": "13de32b6",
   "metadata": {},
   "source": [
    "# Parâmetros nomeados\n"
   ]
  },
  {
   "cell_type": "code",
   "execution_count": 31,
   "id": "d76ae9ea",
   "metadata": {},
   "outputs": [],
   "source": [
    "# Essa função receberá dois parâmetros\n",
    "def calculoIMC(peso, altura):\n",
    "    print('Seu IMC: %.2f'%((peso / altura) ** 2))   # Cálculo do IMC"
   ]
  },
  {
   "cell_type": "code",
   "execution_count": 32,
   "id": "0fbd1df3",
   "metadata": {},
   "outputs": [
    {
     "name": "stdout",
     "output_type": "stream",
     "text": [
      "Seu IMC: 1946.37\n"
     ]
    }
   ],
   "source": [
    "# Visualizando resultado\n",
    "calculoIMC(peso = 75, altura = 1.70)\n",
    "\n",
    "# Com a nomeação dos parâmetro podemos identificar qual valor é o que,\n",
    "# porque se colocassemos 'calculoIMC(75, 1.70)' o programa não iria,\n",
    "# identidicar o que seria cada um dos valores, por isso nesse caso\n",
    "# podemos nomear cada um dos parâmetro"
   ]
  },
  {
   "cell_type": "markdown",
   "id": "dcf6d40a",
   "metadata": {},
   "source": [
    "# Imprimindo mais valores"
   ]
  },
  {
   "cell_type": "code",
   "execution_count": 33,
   "id": "bfcda75c",
   "metadata": {},
   "outputs": [],
   "source": [
    "def nomes(nome):\n",
    "    print(f'Nome: {nome}')"
   ]
  },
  {
   "cell_type": "code",
   "execution_count": 36,
   "id": "b9d83c0d",
   "metadata": {},
   "outputs": [
    {
     "name": "stdout",
     "output_type": "stream",
     "text": [
      "Nome: Vitor\n",
      "Nome: Gustavo\n",
      "Nome: Rafael\n",
      "Nome: Bruno\n"
     ]
    }
   ],
   "source": [
    "nomes('Vitor')\n",
    "nomes('Gustavo')\n",
    "nomes('Rafael')\n",
    "nomes('Bruno')"
   ]
  },
  {
   "cell_type": "code",
   "execution_count": null,
   "id": "1973b624",
   "metadata": {},
   "outputs": [],
   "source": []
  }
 ],
 "metadata": {
  "kernelspec": {
   "display_name": "Python 3 (ipykernel)",
   "language": "python",
   "name": "python3"
  },
  "language_info": {
   "codemirror_mode": {
    "name": "ipython",
    "version": 3
   },
   "file_extension": ".py",
   "mimetype": "text/x-python",
   "name": "python",
   "nbconvert_exporter": "python",
   "pygments_lexer": "ipython3",
   "version": "3.9.7"
  }
 },
 "nbformat": 4,
 "nbformat_minor": 5
}
