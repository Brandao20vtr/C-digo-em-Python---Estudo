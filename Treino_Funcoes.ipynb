{
 "cells": [
  {
   "cell_type": "markdown",
   "id": "97a3c579",
   "metadata": {},
   "source": [
    "# Funções em Python"
   ]
  },
  {
   "cell_type": "code",
   "execution_count": null,
   "id": "8479927b",
   "metadata": {},
   "outputs": [],
   "source": [
    "# CRIANDO UMA FUNÇÃO\n",
    "# def --> Chama a função\n",
    "# primeiraFuncao --> É o nome que foi atribuído para a função\n",
    "# () --> Está vazio porque não foi atribuído parâmetro\n",
    "def primeiraFuncao():\n",
    "    print('Hello World!')"
   ]
  },
  {
   "cell_type": "code",
   "execution_count": null,
   "id": "b9790256",
   "metadata": {},
   "outputs": [],
   "source": [
    "primeiraFuncao()"
   ]
  },
  {
   "cell_type": "code",
   "execution_count": null,
   "id": "a136d7b0",
   "metadata": {},
   "outputs": [],
   "source": [
    "# DEFININDO UM PARÂMETRO\n",
    "# (nome) --> Atribuído um parâmetro 'nome' que receberá um valor\n",
    "def primeiraFuncao(nome):\n",
    "    print('Hello %s'%(nome))   # Quando for atribuído valor para o parâmetro, ele será colocado na frase"
   ]
  },
  {
   "cell_type": "code",
   "execution_count": null,
   "id": "d051cf66",
   "metadata": {},
   "outputs": [],
   "source": [
    "# Depois da função criada é atribuído um valor ao parâmetro\n",
    "primeiraFuncao('Vitor')   # O valor do parâmetro é 'Vitor'"
   ]
  },
  {
   "cell_type": "code",
   "execution_count": null,
   "id": "f0afe2c0",
   "metadata": {},
   "outputs": [],
   "source": [
    "# FUNÇÃO COM FOR\n",
    "def funcLeitura():\n",
    "    for i in range(0, 5):   # Fará uma contagem de 0 á 4 exclusive o 5, conta 5 valores: 0, 1, 2, 3, 4\n",
    "        print('Número ' + str(i))   # A variável 'i' que passará por cada valor será colocada aqui"
   ]
  },
  {
   "cell_type": "code",
   "execution_count": null,
   "id": "6b732757",
   "metadata": {},
   "outputs": [],
   "source": [
    "funcLeitura()"
   ]
  },
  {
   "cell_type": "markdown",
   "id": "57cf4a8d",
   "metadata": {},
   "source": [
    "# Criando uma função usando outra função"
   ]
  },
  {
   "cell_type": "code",
   "execution_count": null,
   "id": "470e528c",
   "metadata": {},
   "outputs": [],
   "source": [
    "# Importando pacote 'Matemática'\n",
    "import math\n",
    "\n",
    "def numPrimo(num):\n",
    "    if (num % 2) == 0 and num > 2:\n",
    "        return 'Esse número não é primo.'\n",
    "    \n",
    "    for i in range(3, int(math.sqrt(num)) + 1,  2):\n",
    "        if (num % i) == 0:\n",
    "            return 'Esse número não é primo.'\n",
    "        \n",
    "    return 'Esse número é primo.'"
   ]
  },
  {
   "cell_type": "code",
   "execution_count": null,
   "id": "50dd1c91",
   "metadata": {},
   "outputs": [],
   "source": [
    "numPrimo(541)"
   ]
  },
  {
   "cell_type": "markdown",
   "id": "023f4a4c",
   "metadata": {},
   "source": [
    "# Fazendo 'split' dos dados"
   ]
  },
  {
   "cell_type": "code",
   "execution_count": null,
   "id": "685fcc23",
   "metadata": {},
   "outputs": [],
   "source": [
    "def splitString(text):\n",
    "    return text.split(' ')"
   ]
  },
  {
   "cell_type": "code",
   "execution_count": null,
   "id": "1a851cc9",
   "metadata": {},
   "outputs": [],
   "source": [
    "text = 'Now I am learning functions in Python'"
   ]
  },
  {
   "cell_type": "code",
   "execution_count": null,
   "id": "9f8391d7",
   "metadata": {},
   "outputs": [],
   "source": [
    "print(splitString(text))"
   ]
  },
  {
   "cell_type": "code",
   "execution_count": null,
   "id": "b8ec1f95",
   "metadata": {},
   "outputs": [],
   "source": [
    "def splitString(text):\n",
    "    return text.upper()"
   ]
  },
  {
   "cell_type": "code",
   "execution_count": null,
   "id": "84f9baa5",
   "metadata": {},
   "outputs": [],
   "source": [
    "splitString(text)"
   ]
  },
  {
   "cell_type": "code",
   "execution_count": null,
   "id": "efe927a6",
   "metadata": {},
   "outputs": [],
   "source": [
    "def splitString(text):\n",
    "    return text.lower()"
   ]
  },
  {
   "cell_type": "code",
   "execution_count": null,
   "id": "60240159",
   "metadata": {},
   "outputs": [],
   "source": [
    "texto = splitString(text)"
   ]
  },
  {
   "cell_type": "code",
   "execution_count": null,
   "id": "bf9979c9",
   "metadata": {},
   "outputs": [],
   "source": [
    "print(texto)"
   ]
  }
 ],
 "metadata": {
  "kernelspec": {
   "display_name": "Python 3 (ipykernel)",
   "language": "python",
   "name": "python3"
  },
  "language_info": {
   "codemirror_mode": {
    "name": "ipython",
    "version": 3
   },
   "file_extension": ".py",
   "mimetype": "text/x-python",
   "name": "python",
   "nbconvert_exporter": "python",
   "pygments_lexer": "ipython3",
   "version": "3.9.7"
  }
 },
 "nbformat": 4,
 "nbformat_minor": 5
}
